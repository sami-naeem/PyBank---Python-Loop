{
 "cells": [
  {
   "cell_type": "code",
   "execution_count": 2,
   "id": "223024a1-5d05-4293-abb8-214c7c4af9fd",
   "metadata": {},
   "outputs": [],
   "source": [
    "# Import CSV file\n",
    "import csv"
   ]
  },
  {
   "cell_type": "code",
   "execution_count": null,
   "id": "9890bd55-1008-499a-a336-e4fe27d112ab",
   "metadata": {},
   "outputs": [],
   "source": [
    "# Creating Data variable as empty list\n",
    "data = []"
   ]
  },
  {
   "cell_type": "code",
   "execution_count": 14,
   "id": "86ede661-fa4f-44f4-8235-aa9d0b4e9581",
   "metadata": {},
   "outputs": [
    {
     "data": {
      "text/plain": [
       "[['Jan-2010', '867884'],\n",
       " ['Feb-2010', '984655'],\n",
       " ['Mar-2010', '322013'],\n",
       " ['Apr-2010', '-69417'],\n",
       " ['May-2010', '310503']]"
      ]
     },
     "execution_count": 14,
     "metadata": {},
     "output_type": "execute_result"
    }
   ],
   "source": [
    "# Opening the Budget Data CSV file\n",
    "with open(\"Resources/budget_data.csv\") as file:\n",
    "  csvreader = csv.reader(file)\n",
    "  csv_header=next(csvreader)\n",
    "  for row in csvreader:\n",
    "        data.append(row)\n",
    "\n",
    "# Output Data \n",
    "data[:5]"
   ]
  },
  {
   "cell_type": "code",
   "execution_count": 20,
   "id": "cb6fa715-7a72-4eaa-b9b6-7223c492ccb2",
   "metadata": {},
   "outputs": [],
   "source": [
    "# Total Number of months \n",
    "\n",
    "months=[i[0] for i in data]\n",
    "total_months=len(months)\n"
   ]
  },
  {
   "cell_type": "code",
   "execution_count": 21,
   "id": "954c5155",
   "metadata": {},
   "outputs": [],
   "source": [
    "# Net total profit loss\n",
    "\n",
    "p_l=[int(i[1]) for i in data]\n",
    "profit_loss=sum(p_l)"
   ]
  },
  {
   "cell_type": "code",
   "execution_count": 25,
   "id": "f9c15219",
   "metadata": {},
   "outputs": [],
   "source": [
    "# Calculate  profit and loss change \n",
    "\n",
    "pl_change = []\n",
    "pl_change_length=total_months-1\n",
    "for i in range(pl_change_length):\n",
    "    pl_change.append(p_l[i+1] - p_l[i])\n",
    "    \n",
    "pl_avg_change=round(sum(pl_change)/len(pl_change),2)"
   ]
  },
  {
   "cell_type": "code",
   "execution_count": 26,
   "id": "380e785e-a98b-4fa4-b5de-db7a077402ea",
   "metadata": {},
   "outputs": [],
   "source": [
    "# Calcualte greatest increase and decrease in profit loss\n",
    "\n",
    "pl_greatest_increase=max(pl_change)\n",
    "pl_greatest_decrease=min(pl_change)"
   ]
  },
  {
   "cell_type": "code",
   "execution_count": 27,
   "id": "b88b9232",
   "metadata": {},
   "outputs": [
    {
     "name": "stdout",
     "output_type": "stream",
     "text": [
      "Financial Analysis\n",
      "----------------------------\n",
      "Total Months: 258\n",
      "Total: $115147734\n",
      "Average Change: $-765.7\n",
      "Greatest Increase in Profits: Feb-2012 ($1926159)\n",
      "Greatest Decrease in Profits: Sep-2013 ($-2196167)\n"
     ]
    }
   ],
   "source": [
    "# Printing Results\n",
    "print('Financial Analysis')\n",
    "print('----------------------------')\n",
    "print(f'Total Months: {total_months}')\n",
    "print(f'Total: ${profit_loss}')\n",
    "print(f'Average Change: ${pl_avg_change}')\n",
    "print(f'Greatest Increase in Profits: Feb-2012 (${pl_greatest_increase})')\n",
    "print(f'Greatest Decrease in Profits: Sep-2013 (${pl_greatest_decrease})')"
   ]
  },
  {
   "cell_type": "code",
   "execution_count": 28,
   "id": "252d5da6-3d31-477c-b264-1866c9f39aaf",
   "metadata": {},
   "outputs": [
    {
     "ename": "NameError",
     "evalue": "name 'y' is not defined",
     "output_type": "error",
     "traceback": [
      "\u001b[1;31m---------------------------------------------------------------------------\u001b[0m",
      "\u001b[1;31mNameError\u001b[0m                                 Traceback (most recent call last)",
      "Input \u001b[1;32mIn [28]\u001b[0m, in \u001b[0;36m<cell line: 2>\u001b[1;34m()\u001b[0m\n\u001b[0;32m      1\u001b[0m \u001b[38;5;66;03m# Export results to text file\u001b[39;00m\n\u001b[0;32m      2\u001b[0m \u001b[38;5;28;01mwith\u001b[39;00m \u001b[38;5;28mopen\u001b[39m(\u001b[38;5;124m'\u001b[39m\u001b[38;5;124mpython.txt\u001b[39m\u001b[38;5;124m'\u001b[39m,\u001b[38;5;124m'\u001b[39m\u001b[38;5;124mw\u001b[39m\u001b[38;5;124m'\u001b[39m) \u001b[38;5;28;01mas\u001b[39;00m i:\n\u001b[1;32m----> 3\u001b[0m     \u001b[43my\u001b[49m\u001b[38;5;241m.\u001b[39mwrite(\u001b[38;5;124m'\u001b[39m\u001b[38;5;124mFinancial Analysis\u001b[39m\u001b[38;5;130;01m\\n\u001b[39;00m\u001b[38;5;124m'\u001b[39m)\n\u001b[0;32m      4\u001b[0m     y\u001b[38;5;241m.\u001b[39mwrite(\u001b[38;5;124m'\u001b[39m\u001b[38;5;124m----------------------------\u001b[39m\u001b[38;5;130;01m\\n\u001b[39;00m\u001b[38;5;124m'\u001b[39m)\n\u001b[0;32m      5\u001b[0m     y\u001b[38;5;241m.\u001b[39mwrite(\u001b[38;5;124mf\u001b[39m\u001b[38;5;124m'\u001b[39m\u001b[38;5;124mTotal Months: \u001b[39m\u001b[38;5;132;01m{\u001b[39;00mtotal_months\u001b[38;5;132;01m}\u001b[39;00m\u001b[38;5;130;01m\\n\u001b[39;00m\u001b[38;5;124m'\u001b[39m)\n",
      "\u001b[1;31mNameError\u001b[0m: name 'y' is not defined"
     ]
    }
   ],
   "source": [
    "# Export results to text file\n",
    "with open('python.txt','w') as i:\n",
    "    y.write('Financial Analysis\\n')\n",
    "    y.write('----------------------------\\n')\n",
    "    y.write(f'Total Months: {total_months}\\n')\n",
    "    y.write(f'Total: ${profit_loss}\\n')\n",
    "    y.write(f'Average Change: ${pl_avg_change}\\n')\n",
    "    y.write(f'Greatest Increase in Profits: Feb-2012 (${pl_greatest_increase})\\n')\n",
    "    y.write(f'Greatest Decrease in Profits: Sep-2013 (${pl_greatest_decrease})\\n')"
   ]
  },
  {
   "cell_type": "code",
   "execution_count": null,
   "id": "a8502838-4bf3-4553-8143-026022cf6e84",
   "metadata": {},
   "outputs": [],
   "source": []
  }
 ],
 "metadata": {
  "kernelspec": {
   "display_name": "Python 3 (ipykernel)",
   "language": "python",
   "name": "python3"
  },
  "language_info": {
   "codemirror_mode": {
    "name": "ipython",
    "version": 3
   },
   "file_extension": ".py",
   "mimetype": "text/x-python",
   "name": "python",
   "nbconvert_exporter": "python",
   "pygments_lexer": "ipython3",
   "version": "3.9.12"
  },
  "vscode": {
   "interpreter": {
    "hash": "c15702f2f6edda7dab26e32030ce8309c1da1ae418cf18e81e999c56cb4e8c55"
   }
  }
 },
 "nbformat": 4,
 "nbformat_minor": 5
}
